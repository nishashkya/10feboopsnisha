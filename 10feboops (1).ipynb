{
 "cells": [
  {
   "cell_type": "code",
   "execution_count": null,
   "id": "d40756d2-b440-4406-9ba2-565319914dcf",
   "metadata": {},
   "outputs": [],
   "source": [
    "#ques1_Answer :\n",
    "The fopen() function is used to open a file.\n",
    "Python has a wide range of file opening modes available by default. These modes specify in which mode our file needed to be opened.\n",
    "Each file opening mode comes with its default functionality and one can select the appropriate model based on the need. \n",
    "the file opening mode argument is an important factor that decides whether we want to read, write or update the contents of an existing file.\n",
    "\n",
    "1. In ‘r’ mode, the file opens in the read mode. By default, if we don’t specify the mode argument, it will be treated as read or ‘r’ mode. For Example, To open our file myfile.txt in ‘r’ mode:\n",
    "\n",
    "2. In the ‘w’ mode, the file opens in write mode. It removes existing content, if present, in the file. If the specified file doesn’t exist, it creates one with the specified name. For Example, To open our file myfile.txt in ‘w’ mode:\n",
    "\n",
    "3. In the ‘a’ mode, the file opens in append mode. It adds content to an existing file (or append at the end of the file). If the specified file doesn’t exist, it creates one with the specified name. It does not remove the existing content from the file. For Example, To open our file myfile.txt in ‘a’ mode:\n",
    "\n",
    "4. In the ‘r+’ mode, the file opens in the read & write mode. It does not remove existing content, if present, in the file and does not create a file if not present in the directory. For Example, To open our file myfile.txt in ‘r+‘ mode:\n",
    "\n",
    "5. In the ‘w+’ mode, open the file in the read & write mode & remove existing content. If the file doesn’t exist, it creates a new one. It does not remove existing content & if a file doesn’t exist, it creates a new one. For Example, To open our file myfile.txt in ‘w+’ mode:\n",
    "\n",
    "6. In the ‘a+’ mode, the file opens in the read & append mode. It does not remove existing content & If the file doesn’t exist, it creates a new one. For Example, To open our file myfile.txt in a+ mode:\n",
    "\n",
    "open(\"myfile.txt\", \"a+\")\n"
   ]
  },
  {
   "cell_type": "code",
   "execution_count": null,
   "id": "6893dc7c-005b-44f1-9438-359eb10ecd24",
   "metadata": {},
   "outputs": [],
   "source": [
    "#ques2_Answer :\n",
    "The close() is used to closes an open file in python. You should always close your files, in some cases, due to buffering, changes made to a file may not show until you close the file.\n",
    "It is important to close a file Because files are limited resources managed by the operating system, making sure files are closed after use will protect against hard-to-debug issues like running out of file handles or experiencing corrupted data. \n",
    "In other words, closing the file is necessary so subsequent accesses will NOT miss the updates (adds, changes, deletes) you made to it."
   ]
  },
  {
   "cell_type": "code",
   "execution_count": 9,
   "id": "b5e6781d-6eee-460c-a769-79084985647d",
   "metadata": {},
   "outputs": [
    {
     "data": {
      "text/plain": [
       "'I want to become a data scentist'"
      ]
     },
     "execution_count": 9,
     "metadata": {},
     "output_type": "execute_result"
    }
   ],
   "source": [
    "#ques3_Answer :\n",
    "textfile = open(\"textfile.txt\",\"w\")\n",
    "textfile.write(\"I want to become a data scentist\")\n",
    "textfile.close()\n",
    "\n",
    "f= open('textfile.txt','r')\n",
    "f.read()"
   ]
  },
  {
   "cell_type": "code",
   "execution_count": 19,
   "id": "6ab44852-9606-472d-bceb-bc0750c717fd",
   "metadata": {},
   "outputs": [
    {
     "data": {
      "text/plain": [
       "'Python is the best programming language in the world \\n pw skills is a great platform to learn python\\nPython programming is as easy as writing a program in simple English language '"
      ]
     },
     "execution_count": 19,
     "metadata": {},
     "output_type": "execute_result"
    }
   ],
   "source": [
    "#ques4_answer :\n",
    "#read() function in python reads the entire file and returns a string.\n",
    "#example of read\n",
    "demofile = open(\"demofile.txt\",\"w\")\n",
    "demofile.write(\"\"\"Python is the best programming language in the world \n",
    " pw skills is a great platform to learn python\n",
    "Python programming is as easy as writing a program in simple English language \"\"\")\n",
    "demofile.close()\n",
    "\n",
    "\n",
    "file = open(\"demofile.txt\",\"r\")\n",
    "file.read()"
   ]
  },
  {
   "cell_type": "code",
   "execution_count": 20,
   "id": "42124945-0485-4177-b8b5-84eaa9368ad7",
   "metadata": {},
   "outputs": [
    {
     "data": {
      "text/plain": [
       "'Python is the best programming language in the world \\n'"
      ]
     },
     "execution_count": 20,
     "metadata": {},
     "output_type": "execute_result"
    }
   ],
   "source": [
    "#ques4_Answer :\n",
    "#Python readline() method will return a line from the file when called.\n",
    "#This function reads lines from that file and returns as a string. It fetch the line n, if it is been called nth time.\n",
    "#example of readline()\n",
    "\n",
    "demofile = open(\"demofile.txt\",\"w\")\n",
    "demofile.write(\"\"\"Python is the best programming language in the world \n",
    "pw skills is a great platform to learn python\n",
    "Python programming is as easy as writing a program in simple English language \"\"\")\n",
    "demofile.close()\n",
    "\n",
    "\n",
    "file = open(\"demofile.txt\",\"r\")\n",
    "file.readline()"
   ]
  },
  {
   "cell_type": "code",
   "execution_count": 21,
   "id": "db766bc3-4c8e-4142-a4d0-0086d0463234",
   "metadata": {},
   "outputs": [
    {
     "data": {
      "text/plain": [
       "['Python is the best programming language in the world \\n',\n",
       " 'pw skills is the great platform to learn python\\n',\n",
       " 'Python programming is as easy as writing a program in simple English language ']"
      ]
     },
     "execution_count": 21,
     "metadata": {},
     "output_type": "execute_result"
    }
   ],
   "source": [
    "#ques4_answer :\n",
    "#readlines() method will return all the lines in a file in the format of a list where each element is a line in the file.\n",
    "#example of readlines()\n",
    "\n",
    "demofile = open(\"demofile.txt\",\"w\")\n",
    "demofile.write(\"\"\"Python is the best programming language in the world \n",
    "pw skills is the great platform to learn python\n",
    "Python programming is as easy as writing a program in simple English language \"\"\")\n",
    "demofile.close()\n",
    "\n",
    "\n",
    "file = open(\"demofile.txt\",\"r\")\n",
    "file.readlines()"
   ]
  },
  {
   "cell_type": "code",
   "execution_count": null,
   "id": "13e213ec-4772-43eb-98a6-e52fecee2939",
   "metadata": {},
   "outputs": [],
   "source": [
    "#ques5_Answer :\n",
    "The Python programming language has various functions and statements for working with a file. The with statement and open() function are two of those statements and functions.\n",
    "The with statement works with the open() function to open a file.\n",
    "\n",
    "The advantage of using with statement and open() together Unlike open() where you have to close the file with the close() method, the with statement closes the file for you without you telling it to.\n",
    "This is because the with statement calls 2 built-in methods behind the scene – __enter()__ and __exit()__.\n",
    "The __exit()__ method closes the file when the operation you specify is done.\n",
    "\n",
    "\n"
   ]
  },
  {
   "cell_type": "code",
   "execution_count": null,
   "id": "f80c2e6a-0479-45f4-844f-695f87a28547",
   "metadata": {},
   "outputs": [],
   "source": [
    "#ques6_Answer :\n",
    "\n",
    "The write() function will write the content or string  in the file without adding any extra characters.\n",
    " the string that is passed to the write() function is written into the opened file. \n",
    "The string may include numbers, special characters, or symbols. \n",
    "While writing data to a file, we must know that the write function does not add a newline character(\\n) to the end of the string. The write() function returns None.\n",
    "\n",
    "\n",
    "writelines() function writes the content of a list to a file.\n",
    "the list of strings that is passed to the writelines() function is written into the opened file. Similar to the write() function,\n",
    "the writelines() function does not add a newline character(\\n) to the end of the string."
   ]
  },
  {
   "cell_type": "code",
   "execution_count": 29,
   "id": "e2ed8c34-c331-4e71-ba67-1d3b210ff802",
   "metadata": {},
   "outputs": [
    {
     "name": "stdin",
     "output_type": "stream",
     "text": [
      "Enter the name of the employee:  sita\n",
      "Enter the name of the employee:  gita\n",
      "Enter the name of the employee:  meena\n"
     ]
    }
   ],
   "source": [
    "#example of ques6 write() :\n",
    "\n",
    "file = open(\"Employees.txt\", \"w\")\n",
    "for i in range(3):\n",
    "   name = input(\"Enter the name of the employee: \")\n",
    "   file.write(name)\n",
    "   file.write(\"\\n\")\n",
    "     \n",
    "file.close()"
   ]
  },
  {
   "cell_type": "code",
   "execution_count": 28,
   "id": "140acb18-b9b4-4d4c-8a5d-b8c43e11e6f0",
   "metadata": {},
   "outputs": [
    {
     "name": "stdin",
     "output_type": "stream",
     "text": [
      "Enter the name of the employee:  sita\n",
      "Enter the name of the employee:  gita\n",
      "Enter the name of the employee:  meena\n"
     ]
    }
   ],
   "source": [
    "#example of ques6  writelines() :\n",
    "file1 = open(\"Employees.txt\", \"w\")\n",
    "lst = []\n",
    "for i in range(3):\n",
    "    name = input(\"Enter the name of the employee: \")\n",
    "    lst.append(name + '\\n')\n",
    "      \n",
    "file1.writelines(lst)\n",
    "file1.close()"
   ]
  },
  {
   "cell_type": "code",
   "execution_count": null,
   "id": "209076c1-0bb5-4a05-878c-74bc571f069a",
   "metadata": {},
   "outputs": [],
   "source": []
  }
 ],
 "metadata": {
  "kernelspec": {
   "display_name": "Python 3 (ipykernel)",
   "language": "python",
   "name": "python3"
  },
  "language_info": {
   "codemirror_mode": {
    "name": "ipython",
    "version": 3
   },
   "file_extension": ".py",
   "mimetype": "text/x-python",
   "name": "python",
   "nbconvert_exporter": "python",
   "pygments_lexer": "ipython3",
   "version": "3.10.6"
  }
 },
 "nbformat": 4,
 "nbformat_minor": 5
}
